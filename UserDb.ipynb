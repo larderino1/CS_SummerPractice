{
    "metadata": {
        "kernelspec": {
            "name": "SQL",
            "display_name": "SQL",
            "language": "sql"
        },
        "language_info": {
            "name": "sql",
            "version": ""
        }
    },
    "nbformat_minor": 2,
    "nbformat": 4,
    "cells": [
        {
            "cell_type": "code",
            "source": [
                "CREATE TABLE [dbo].[AspNetRoles] (\n",
                "[Id]   NVARCHAR (128) NOT NULL,\n",
                "[Name] NVARCHAR (256) NOT NULL,\n",
                "[ConcurrencyStamp] NVARCHAR (256) NULL,\n",
                "[NormalizedName] NVARCHAR (256) NULL\n",
                "CONSTRAINT [PK_dbo.AspNetRoles] PRIMARY KEY CLUSTERED ([Id] ASC)\n",
                ");\n",
                "\n",
                "CREATE TABLE [dbo].[AspNetUsers] (\n",
                "[Id]                   NVARCHAR (128) NOT NULL,\n",
                "[Email]                NVARCHAR (256) NULL,\n",
                "[EmailConfirmed]       BIT            NOT NULL,\n",
                "[PasswordHash]         NVARCHAR (MAX) NULL,\n",
                "[SecurityStamp]        NVARCHAR (MAX) NULL,\n",
                "[PhoneNumber]          NVARCHAR (MAX) NULL,\n",
                "[PhoneNumberConfirmed] BIT            NOT NULL,\n",
                "[TwoFactorEnabled]     BIT            NOT NULL,\n",
                "[LockoutEnd]           DATETIME       NULL,\n",
                "[LockoutEnabled]       BIT            NOT NULL,\n",
                "[AccessFailedCount]    INT            NOT NULL,\n",
                "[UserName]             NVARCHAR (256) NOT NULL,\n",
                "[NormalizedUserName]   NVARCHAR (256) NULL,\n",
                "[NormalizedEmail]      NVARCHAR (256) NULL,\n",
                "[ConcurrencyStamp]     NVARCHAR (256) NULL,\n",
                "CONSTRAINT [PK_dbo.AspNetUsers] PRIMARY KEY CLUSTERED ([Id] ASC)\n",
                ");\n",
                "\n",
                "CREATE TABLE [dbo].[AspNetUserRoles] (\n",
                "[UserId] NVARCHAR (128) NOT NULL,\n",
                "[RoleId] NVARCHAR (128) NOT NULL,\n",
                "CONSTRAINT [PK_dbo.AspNetUserRoles] PRIMARY KEY CLUSTERED ([UserId] ASC, [RoleId] ASC),\n",
                "CONSTRAINT [FK_dbo.AspNetUserRoles_dbo.AspNetRoles_RoleId] FOREIGN KEY ([RoleId]) REFERENCES [dbo].[AspNetRoles] ([Id]) ON DELETE CASCADE,\n",
                "CONSTRAINT [FK_dbo.AspNetUserRoles_dbo.AspNetUsers_UserId] FOREIGN KEY ([UserId]) REFERENCES [dbo].[AspNetUsers] ([Id]) ON DELETE CASCADE\n",
                " );\n",
                "\n",
                "CREATE TABLE [dbo].[AspNetUserLogins] (\n",
                "[LoginProvider] NVARCHAR (128) NOT NULL,\n",
                "[ProviderKey]   NVARCHAR (128) NOT NULL,\n",
                "[ProviderDisplayName] NVARCHAR NOT NULL,\n",
                "[UserId]        NVARCHAR (128) NOT NULL,\n",
                "CONSTRAINT [PK_dbo.AspNetUserLogins] PRIMARY KEY CLUSTERED ([LoginProvider] ASC, [ProviderKey] ASC, [UserId] ASC),\n",
                "CONSTRAINT [FK_dbo.AspNetUserLogins_dbo.AspNetUsers_UserId] FOREIGN KEY ([UserId]) REFERENCES [dbo].[AspNetUsers] ([Id]) ON DELETE CASCADE\n",
                ");\n",
                "\n",
                "CREATE TABLE [dbo].[AspNetUserClaims] (\n",
                "[Id]         INT            IDENTITY (1, 1) NOT NULL,\n",
                "[UserId]     NVARCHAR (128) NOT NULL,\n",
                "[ClaimType]  NVARCHAR (MAX) NULL,\n",
                "[ClaimValue] NVARCHAR (MAX) NULL,\n",
                "CONSTRAINT [PK_dbo.AspNetUserClaims] PRIMARY KEY CLUSTERED ([Id] ASC),\n",
                "CONSTRAINT [FK_dbo.AspNetUserClaims_dbo.AspNetUsers_UserId] FOREIGN KEY ([UserId]) REFERENCES [dbo].[AspNetUsers] ([Id]) ON DELETE CASCADE\n",
                ");\n",
                "\n",
                "CREATE TABLE [dbo].[AspNetRoleClaims] (\n",
                "[Id]         INT            IDENTITY (1, 1) NOT NULL,\n",
                "[RoleId]     NVARCHAR (128) NOT NULL,\n",
                "[ClaimType]  NVARCHAR (MAX) NULL,\n",
                "[ClaimValue] NVARCHAR (MAX) NULL,\n",
                "CONSTRAINT [PK_dbo.AspNetRoleClaims] PRIMARY KEY CLUSTERED ([Id] ASC),\n",
                "CONSTRAINT [FK_dbo.AspNetRoleClaims_dbo.AspNetRoles_RoleId] FOREIGN KEY ([RoleId]) REFERENCES [dbo].[AspNetRoles] ([Id]) ON DELETE CASCADE\n",
                ");\n",
                "\n",
                "CREATE TABLE [dbo].[AspNetUserTokens](\n",
                "[UserId]     NVARCHAR (128)      NOT NULL,\n",
                "[LoginProvider] NVARCHAR (128) NOT NULL,\n",
                "[Name]          NVARCHAR (128) NOT NULL,\n",
                "[Value]         NVARCHAR       NULL,\n",
                "CONSTRAINT [PK_dbo.AspNetUserTokens] PRIMARY KEY CLUSTERED ([UserId] ASC, [LoginProvider] ASC, [Name] ASC),\n",
                "CONSTRAINT [FK_dbo.AspNetUserTokens_dbo.AspNetUsers_UserId] FOREIGN KEY ([UserId]) REFERENCES [dbo].[AspNetUsers] ([Id]) ON DELETE CASCADE\n",
                ")"
            ],
            "metadata": {
                "azdata_cell_guid": "4c7898a8-9cd0-4bd5-9d05-023aa645e8a5"
            },
            "outputs": [],
            "execution_count": null
        },
        {
            "cell_type": "code",
            "source": [
                "CREATE NONCLUSTERED INDEX [IX_UserId]\n",
                "ON [dbo].[AspNetUserClaims]([UserId] ASC);"
            ],
            "metadata": {
                "azdata_cell_guid": "312ec656-9528-4a2b-8d34-a52456c52427"
            },
            "outputs": [],
            "execution_count": null
        },
        {
            "cell_type": "code",
            "source": [
                "CREATE UNIQUE NONCLUSTERED INDEX [RoleNameIndex]\n",
                "ON [dbo].[AspNetRoles]([Name] ASC);"
            ],
            "metadata": {
                "azdata_cell_guid": "03a6453b-9bd2-4273-b3e9-4b5d9a0acd91"
            },
            "outputs": [],
            "execution_count": null
        },
        {
            "cell_type": "code",
            "source": [
                "CREATE UNIQUE NONCLUSTERED INDEX [UserNameIndex]\n",
                "ON [dbo].[AspNetUsers]([UserName] ASC);"
            ],
            "metadata": {
                "azdata_cell_guid": "b4fa4e83-b514-4c45-a6db-78ffccd6d243"
            },
            "outputs": [],
            "execution_count": null
        },
        {
            "cell_type": "code",
            "source": [
                "CREATE NONCLUSTERED INDEX [IX_UserId]\n",
                "ON [dbo].[AspNetUserRoles]([UserId] ASC);"
            ],
            "metadata": {
                "azdata_cell_guid": "81e059b7-35f2-4e59-a697-94ec6a4e4465"
            },
            "outputs": [],
            "execution_count": null
        },
        {
            "cell_type": "code",
            "source": [
                "CREATE NONCLUSTERED INDEX [IX_RoleId]\n",
                "ON [dbo].[AspNetUserRoles]([RoleId] ASC);"
            ],
            "metadata": {
                "azdata_cell_guid": "3104067f-80f7-4f68-89c4-dd061a529ed0"
            },
            "outputs": [],
            "execution_count": null
        },
        {
            "cell_type": "code",
            "source": [
                "CREATE NONCLUSTERED INDEX [IX_UserId]\n",
                "ON [dbo].[AspNetUserLogins]([UserId] ASC);"
            ],
            "metadata": {
                "azdata_cell_guid": "0a67c9d0-29cf-4029-842b-2b48a5dbf3b8"
            },
            "outputs": [],
            "execution_count": null
        },
        {
            "cell_type": "code",
            "source": [
                "CREATE NONCLUSTERED INDEX [EmailIndex]\n",
                "ON [dbo].[AspNetUsers]([NormalizedEmail] ASC);"
            ],
            "metadata": {
                "azdata_cell_guid": "f65e256a-c614-4438-982c-28329fb8cb3c"
            },
            "outputs": [],
            "execution_count": null
        },
        {
            "cell_type": "code",
            "source": [
                "CREATE NONCLUSTERED INDEX [IX_RoleId]\n",
                "ON [dbo].[AspNetRoleClaims]([RoleId] ASC);"
            ],
            "metadata": {
                "azdata_cell_guid": "d22d133b-5bc0-4cdd-9cf2-1fb203e264cc"
            },
            "outputs": [],
            "execution_count": null
        }
    ]
}